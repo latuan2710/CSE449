{
 "nbformat": 4,
 "nbformat_minor": 0,
 "metadata": {
  "colab": {
   "provenance": []
  },
  "kernelspec": {
   "name": "python3",
   "display_name": "Python 3"
  },
  "language_info": {
   "name": "python"
  }
 },
 "cells": [
  {
   "cell_type": "code",
   "execution_count": 52,
   "metadata": {
    "id": "eWK9Hce6W3NI"
   },
   "outputs": [],
   "source": [
    "import pandas as pd\n",
    "import numpy as np"
   ]
  },
  {
   "cell_type": "code",
   "source": [
    "df = pd.read_csv('forestfires.csv',sep=',')"
   ],
   "metadata": {
    "id": "d_XdrKLVXiKY"
   },
   "execution_count": 53,
   "outputs": []
  },
  {
   "cell_type": "code",
   "source": [
    "print(df)"
   ],
   "metadata": {
    "colab": {
     "base_uri": "https://localhost:8080/"
    },
    "id": "wVrjIvkfY7NC",
    "outputId": "e4916579-94d4-45ee-ad5a-a292220cf5ca",
    "is_executing": true
   },
   "execution_count": null,
   "outputs": []
  },
  {
   "cell_type": "code",
   "source": [
    "df['month'].replace({'jan': 1}, inplace=True)\n",
    "df['month'].replace({'feb': 2}, inplace=True)\n",
    "df['month'].replace({'mar': 3}, inplace=True)\n",
    "df['month'].replace({'apr': 4}, inplace=True)\n",
    "df['month'].replace({'may': 5}, inplace=True)\n",
    "df['month'].replace({'jun': 6}, inplace=True)\n",
    "df['month'].replace({'jul': 7}, inplace=True)\n",
    "df['month'].replace({'aug': 8}, inplace=True)\n",
    "df['month'].replace({'sep': 9}, inplace=True)\n",
    "df['month'].replace({'oct': 10}, inplace=True)\n",
    "df['month'].replace({'nov': 11}, inplace=True)\n",
    "df['month'].replace({'dec': 12}, inplace=True)\n",
    "\n",
    "\n",
    "df['day'].replace({'mon': 2}, inplace=True)\n",
    "df['day'].replace({'tue': 3}, inplace=True)\n",
    "df['day'].replace({'wed': 4}, inplace=True)\n",
    "df['day'].replace({'thu': 5}, inplace=True)\n",
    "df['day'].replace({'fri': 6}, inplace=True)\n",
    "df['day'].replace({'sat': 7}, inplace=True)\n",
    "df['day'].replace({'sun': 8}, inplace=True)\n",
    "\n",
    "\n",
    "\n",
    "\n",
    "print(df)"
   ],
   "metadata": {
    "colab": {
     "base_uri": "https://localhost:8080/"
    },
    "id": "de3tdu9dXupY",
    "outputId": "7c91e126-4934-4845-f91b-40235c35ba7f",
    "is_executing": true
   },
   "execution_count": null,
   "outputs": []
  },
  {
   "cell_type": "code",
   "source": [
    "X= df.iloc[:,:-1].values\n",
    "y = df.iloc[:,-1].values"
   ],
   "metadata": {
    "id": "6fe1f46wt7TE"
   },
   "execution_count": 85,
   "outputs": []
  },
  {
   "cell_type": "code",
   "source": [
    "print(y)"
   ],
   "metadata": {
    "id": "mamqJhGgvqGS",
    "is_executing": true
   },
   "execution_count": null,
   "outputs": []
  },
  {
   "cell_type": "code",
   "source": [
    "from sklearn.model_selection import train_test_split\n",
    "from sklearn.linear_model import LinearRegression"
   ],
   "metadata": {
    "id": "nqExd92ruFOE"
   },
   "execution_count": 58,
   "outputs": []
  },
  {
   "cell_type": "code",
   "source": [
    "X_train, X_test, y_train, y_test = train_test_split(X, y, test_size = 0.25)\n"
   ],
   "metadata": {
    "id": "hRDoBOohuBZX"
   },
   "execution_count": 86,
   "outputs": []
  },
  {
   "cell_type": "code",
   "source": [
    "regr = LinearRegression()\n",
    "\n",
    "regr.fit(X_train, y_train)\n",
    "\n",
    "input = [2,4,8,8,93.6,235.1,723.1,10.1,20.9,66,4.9,0]\n",
    "regr.predict([input])"
   ],
   "metadata": {
    "colab": {
     "base_uri": "https://localhost:8080/"
    },
    "id": "lbqxTu-puJiv",
    "outputId": "0b594e8e-9b54-4c78-a0cd-ed843125dc13"
   },
   "execution_count": 87,
   "outputs": [
    {
     "output_type": "execute_result",
     "data": {
      "text/plain": [
       "array([17.7572443])"
      ]
     },
     "metadata": {},
     "execution_count": 87
    }
   ]
  }
 ]
}
