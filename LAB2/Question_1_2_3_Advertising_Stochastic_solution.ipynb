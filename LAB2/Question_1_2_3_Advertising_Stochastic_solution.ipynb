{
  "cells": [
    {
      "cell_type": "markdown",
      "id": "9e349e20",
      "metadata": {
        "id": "9e349e20"
      },
      "source": [
        "#### implementation"
      ]
    },
    {
      "cell_type": "code",
      "execution_count": 1,
      "id": "438ce821",
      "metadata": {
        "id": "438ce821"
      },
      "outputs": [],
      "source": [
        "# dataset\n",
        "import numpy as np\n",
        "import matplotlib.pyplot as plt\n",
        "import random\n",
        "\n",
        "def get_column(data, index):\n",
        "    result = [row[index] for row in data]\n",
        "    return result\n",
        "\n",
        "def prepare_data(file_name_dataset):\n",
        "  data = np.genfromtxt(file_name_dataset, delimiter=',', skip_header=1).tolist()\n",
        "  N = len(data)\n",
        "\n",
        "  # get tv (index=0)\n",
        "  tv_data = get_column(data, 0)\n",
        "\n",
        "  # get radio (index=1)\n",
        "  radio_data = get_column(data, 1)\n",
        "\n",
        "  # get newspaper (index=2)\n",
        "  newspaper_data = get_column(data, 2)\n",
        "\n",
        "  # get sales (index=3)\n",
        "  sales_data = get_column(data, 3)\n",
        "\n",
        "  # building X input  and y output for training\n",
        "  X = [tv_data, radio_data, newspaper_data]\n",
        "  y = sales_data\n",
        "  return X,y"
      ]
    },
    {
      "cell_type": "code",
      "execution_count": 2,
      "id": "os4lMXA63lfA",
      "metadata": {
        "colab": {
          "base_uri": "https://localhost:8080/"
        },
        "id": "os4lMXA63lfA",
        "outputId": "f5c33da1-240c-4165-d1e0-64fe2e1ff2c6"
      },
      "outputs": [
        {
          "output_type": "stream",
          "name": "stdout",
          "text": [
            "[624.1, 175.10000000000002, 300.5, 78.9]\n"
          ]
        }
      ],
      "source": [
        "X,y = prepare_data('advertising.csv')\n",
        "list = [sum(X[0][:5]), sum(X[1][:5]), sum(X[2][:5]), sum(y[:5])]\n",
        "print(list)"
      ]
    },
    {
      "cell_type": "code",
      "execution_count": null,
      "id": "88d42196",
      "metadata": {
        "id": "88d42196"
      },
      "outputs": [],
      "source": []
    },
    {
      "cell_type": "code",
      "execution_count": 3,
      "id": "cc65ed05",
      "metadata": {
        "id": "cc65ed05"
      },
      "outputs": [],
      "source": [
        "# compute output and loss\n",
        "def predict(x1, x2, x3, w1, w2, w3, b):\n",
        "    return w1*x1 + w2*x2 + w3*x3 + b\n",
        "\n",
        "def compute_loss_mse(y_hat, y):\n",
        "    return (y_hat - y)**2\n",
        "\n",
        "def compute_loss_mae(y_hat, y):\n",
        "    return abs(y_hat - y)\n",
        "\n",
        "# compute gradient\n",
        "def compute_gradient_wi(xi, y, y_hat):\n",
        "    dl_dwi = 2*xi*(y_hat-y)\n",
        "    return dl_dwi\n",
        "\n",
        "def compute_gradient_b(y, y_hat):\n",
        "    dl_db = 2*(y_hat-y)\n",
        "    return dl_db\n",
        "\n",
        "# update weights\n",
        "def update_weight_wi(wi, dl_dwi, lr):\n",
        "    wi = wi - lr*dl_dwi\n",
        "    return wi\n",
        "\n",
        "def update_weight_b(b, dl_db, lr):\n",
        "    b  = b - lr*dl_db\n",
        "    return b"
      ]
    },
    {
      "cell_type": "code",
      "execution_count": null,
      "id": "nkm9-LCSRWKv",
      "metadata": {
        "colab": {
          "base_uri": "https://localhost:8080/"
        },
        "id": "nkm9-LCSRWKv",
        "outputId": "4e372387-ec05-435e-b0af-944ccbf36672"
      },
      "outputs": [
        {
          "output_type": "stream",
          "name": "stdout",
          "text": [
            "1.0\n"
          ]
        }
      ],
      "source": [
        "\n",
        "y_p = predict(x1 = 1, x2 =1, x3=1, w1=0, w2=0.5, w3=0, b=0.5)\n",
        "print(y_p)"
      ]
    },
    {
      "cell_type": "code",
      "execution_count": null,
      "id": "14wcs223SOQA",
      "metadata": {
        "colab": {
          "base_uri": "https://localhost:8080/"
        },
        "id": "14wcs223SOQA",
        "outputId": "9a29aa5e-846b-49f0-fd7a-d9aa8ba43c47"
      },
      "outputs": [
        {
          "output_type": "stream",
          "name": "stdout",
          "text": [
            "0.25\n"
          ]
        }
      ],
      "source": [
        "l = compute_loss_mse(y_hat=1, y=0.5)\n",
        "print(l)"
      ]
    },
    {
      "cell_type": "code",
      "execution_count": null,
      "id": "V0rMsFjEclbB",
      "metadata": {
        "colab": {
          "base_uri": "https://localhost:8080/"
        },
        "id": "V0rMsFjEclbB",
        "outputId": "751bb841-203f-4720-9472-cb81735b38f3"
      },
      "outputs": [
        {
          "output_type": "stream",
          "name": "stdout",
          "text": [
            "0.5\n"
          ]
        }
      ],
      "source": [
        "l = compute_loss_mae(y_hat=1, y=0.5)\n",
        "print(l)"
      ]
    },
    {
      "cell_type": "code",
      "execution_count": null,
      "id": "28f3addc",
      "metadata": {
        "colab": {
          "base_uri": "https://localhost:8080/"
        },
        "id": "28f3addc",
        "outputId": "2c3ca1ba-c261-4634-aec7-a6d8fc76e04f"
      },
      "outputs": [
        {
          "output_type": "stream",
          "name": "stdout",
          "text": [
            "-1.0\n"
          ]
        }
      ],
      "source": [
        "# compute gradient\n",
        "g_wi = compute_gradient_wi(xi=1.0, y=1.0, y_hat=0.5)\n",
        "print(g_wi)"
      ]
    },
    {
      "cell_type": "code",
      "execution_count": null,
      "id": "7ZO0BQYmTKfc",
      "metadata": {
        "colab": {
          "base_uri": "https://localhost:8080/"
        },
        "id": "7ZO0BQYmTKfc",
        "outputId": "a52f43ff-5957-4c02-f716-cbce05d82481"
      },
      "outputs": [
        {
          "output_type": "stream",
          "name": "stdout",
          "text": [
            "-3.0\n"
          ]
        }
      ],
      "source": [
        "g_b =  compute_gradient_b(y=2.0, y_hat=0.5)\n",
        "print(g_b)"
      ]
    },
    {
      "cell_type": "code",
      "execution_count": null,
      "id": "6Hmq6SIPTpDu",
      "metadata": {
        "colab": {
          "base_uri": "https://localhost:8080/"
        },
        "id": "6Hmq6SIPTpDu",
        "outputId": "028b6e20-db4b-40a4-e2f0-d036371d1071"
      },
      "outputs": [
        {
          "output_type": "stream",
          "name": "stdout",
          "text": [
            "1.000005\n"
          ]
        }
      ],
      "source": [
        "after_wi = update_weight_wi(wi=1.0, dl_dwi=-0.5, lr = 1e-5)\n",
        "print(after_wi)"
      ]
    },
    {
      "cell_type": "code",
      "execution_count": null,
      "id": "jJZp57H7Uc20",
      "metadata": {
        "colab": {
          "base_uri": "https://localhost:8080/"
        },
        "id": "jJZp57H7Uc20",
        "outputId": "14eb99ad-15a9-4f40-8201-234b75895740"
      },
      "outputs": [
        {
          "output_type": "stream",
          "name": "stdout",
          "text": [
            "0.50001\n"
          ]
        }
      ],
      "source": [
        "after_b = update_weight_b(b=0.5, dl_db=-1.0, lr = 1e-5)\n",
        "print(after_b)\n"
      ]
    },
    {
      "cell_type": "code",
      "execution_count": 4,
      "id": "918b429f",
      "metadata": {
        "colab": {
          "base_uri": "https://localhost:8080/"
        },
        "id": "918b429f",
        "outputId": "c8bc18a7-a9a0-4051-98e5-fa70684c5e3c"
      },
      "outputs": [
        {
          "output_type": "stream",
          "name": "stdout",
          "text": [
            "(0.016992259082509283, 0.0070783670518262355, -0.002307860847821344, 0)\n"
          ]
        }
      ],
      "source": [
        "def initialize_params():\n",
        "    # w1 = random.gauss(mu=0.0, sigma=0.01)\n",
        "    # w2 = random.gauss(mu=0.0, sigma=0.01)\n",
        "    # w3 = random.gauss(mu=0.0, sigma=0.01)\n",
        "    # b  = 0\n",
        "\n",
        "    w1, w2, w3, b = (0.016992259082509283, 0.0070783670518262355, -0.002307860847821344, 0)\n",
        "    return w1, w2, w3, b\n",
        "\n",
        "print(initialize_params())"
      ]
    },
    {
      "cell_type": "code",
      "execution_count": null,
      "id": "c43afd0a",
      "metadata": {
        "id": "c43afd0a"
      },
      "outputs": [],
      "source": []
    },
    {
      "cell_type": "code",
      "execution_count": 5,
      "id": "94ea37a5",
      "metadata": {
        "id": "94ea37a5"
      },
      "outputs": [],
      "source": [
        "\n",
        "def implement_linear_regression(X_data, y_data, epoch_max = 50,lr = 1e-5):\n",
        "  losses = []\n",
        "\n",
        "  w1, w2, w3, b = initialize_params()\n",
        "\n",
        "  N = len(y_data)\n",
        "  for epoch in range(epoch_max):\n",
        "      for i in range(N):\n",
        "          # get a sample\n",
        "          x1 = X_data[0][i]\n",
        "          x2 = X_data[1][i]\n",
        "          x3 = X_data[2][i]\n",
        "\n",
        "          y  = y_data[i]\n",
        "\n",
        "          # print(y)\n",
        "          # compute output\n",
        "          y_hat = predict(x1, x2, x3, w1, w2, w3, b)\n",
        "\n",
        "          # compute loss\n",
        "          loss = compute_loss_mse(y, y_hat)\n",
        "\n",
        "          # compute gradient w1, w2, w3, b\n",
        "          dl_dw1 = compute_gradient_wi(x1, y, y_hat)\n",
        "          dl_dw2 = compute_gradient_wi(x2, y, y_hat)\n",
        "          dl_dw3 = compute_gradient_wi(x3, y, y_hat)\n",
        "          dl_db  = compute_gradient_b(y, y_hat)\n",
        "\n",
        "          # update parameters\n",
        "          w1 = update_weight_wi(w1, dl_dw1, lr)\n",
        "          w2 = update_weight_wi(w2, dl_dw2, lr)\n",
        "          w3 = update_weight_wi(w3, dl_dw3, lr)\n",
        "          b  = update_weight_b(b, dl_db, lr)\n",
        "\n",
        "          # logging\n",
        "          losses.append(loss)\n",
        "  return (w1,w2,w3,b, losses)"
      ]
    },
    {
      "cell_type": "code",
      "execution_count": 6,
      "id": "091d717c",
      "metadata": {
        "colab": {
          "base_uri": "https://localhost:8080/",
          "height": 487
        },
        "id": "091d717c",
        "outputId": "f390007e-656d-4843-bcd6-465623963d89"
      },
      "outputs": [
        {
          "output_type": "stream",
          "name": "stdout",
          "text": [
            "[326.9667843262905, 16.813661135067065, 53.03153479688057, 9.097721194637154, 3.6424308051668244, 7.563752860234681, 22.66109565599889, 0.2903595791172754, 14.838547485180843, 24.076309414072263, 40.37629497003938, 5.1268803606027795, 13.518222414308081, 29.260234447005313, 6.298237914505083, 9.162549922566846, 0.026579461634628335, 26.706667137444764, 31.588025437397253, 7.299166664675038, 4.87832661040257, 0.06589490698448672, 4.659432930180689, 8.197887498801554, 10.726801676543044, 46.88850553057548, 37.00183951157569, 7.945648850356329, 13.192456099944478, 12.99508446043089, 3.692858118961234, 8.94362747789156, 30.181447411539107, 11.431671284831852, 36.174366413011626, 7.460278650398524, 86.65149410437682, 5.3701391264310505, 5.3518169904114785, 46.336728755672745, 2.5374346878656464, 1.4161484943898264, 6.706004362616138, 15.295560375546378, 9.923480328914641, 0.04638468028698762, 1.7385993721560624, 1.6392488216093404, 9.405606514050849, 5.91762067788424, 0.22728553410458135, 7.704136032047827, 2.3144717388248295, 0.02330380711737245, 20.133332541402343, 33.816425883788106, 0.6561204508540309, 0.17211939302167847, 1.321205615462913, 5.986634575059683, 6.110291055512081, 7.229996288043398, 5.20504476655737, 15.650807141845743, 0.36447463861739693, 22.120952324033475, 42.548976724269615, 3.055075082401954, 30.260949867087863, 13.371993356633645, 6.0493644193645935, 2.556081900694899, 13.096725408487062, 2.27692725731731, 1.481825527615274, 0.517055193651727, 13.138054256501638, 9.299431935470237, 6.011373107825067, 0.010630709114052485, 7.292734959543903, 26.971779455881702, 13.370080010076855, 16.831807385906348, 3.219846864543299, 0.12875693524812656, 10.634525866959152, 0.018319160996285624, 1.0458065098406466, 1.64532942290872, 4.664352754998782, 5.923464164603452, 40.31129341818055, 3.873304955970071e-05, 11.376290473211524, 0.08511831983458273, 6.419827186195065, 9.566816319144424, 49.61830182032743, 26.500970882518022]\n"
          ]
        },
        {
          "output_type": "display_data",
          "data": {
            "text/plain": [
              "<Figure size 640x480 with 1 Axes>"
            ],
            "image/png": "[encoded data removed]"
          },
          "metadata": {}
        }
      ],
      "source": [
        "X,y = prepare_data('advertising.csv')\n",
        "(w1,w2,w3,b, losses) = implement_linear_regression(X,y)\n",
        "print(losses[0:100])\n",
        "plt.plot(losses[0:100])\n",
        "plt.xlabel(\"#iteration\")\n",
        "plt.ylabel(\"Loss\")\n",
        "plt.show()"
      ]
    },
    {
      "cell_type": "code",
      "execution_count": 7,
      "id": "9lMEgCsiOLiR",
      "metadata": {
        "colab": {
          "base_uri": "https://localhost:8080/"
        },
        "id": "9lMEgCsiOLiR",
        "outputId": "3e8878c8-509d-49e1-e271-07366a90cf10"
      },
      "outputs": [
        {
          "output_type": "stream",
          "name": "stdout",
          "text": [
            "0.07405984066396477 0.15917360263437663 0.017561197559948935\n"
          ]
        }
      ],
      "source": [
        "X,y = prepare_data('advertising.csv')\n",
        "(w1,w2,w3,b, losses) = implement_linear_regression(X,y)\n",
        "print(w1,w2,w3)"
      ]
    },
    {
      "cell_type": "markdown",
      "id": "143c7817",
      "metadata": {
        "id": "143c7817"
      },
      "source": [
        "#### Inference"
      ]
    },
    {
      "cell_type": "code",
      "execution_count": null,
      "id": "9042ab0f",
      "metadata": {
        "colab": {
          "base_uri": "https://localhost:8080/"
        },
        "id": "9042ab0f",
        "outputId": "d07f2c2a-0d14-4c1f-a6a6-e7912c4f0871"
      },
      "outputs": [
        {
          "output_type": "stream",
          "name": "stdout",
          "text": [
            "predicted sales is 8.176413319549823\n"
          ]
        }
      ],
      "source": [
        "\n",
        "# given new data\n",
        "tv = 19.2\n",
        "radio = 35.9\n",
        "newspaper = 51.3\n",
        "\n",
        "X,y = prepare_data('advertising.csv')\n",
        "(w1,w2,w3,b, losses) = implement_linear_regression(X,y)\n",
        "sales = predict(tv, radio, newspaper, w1, w2, w3, b)\n",
        "print(f'predicted sales is {sales}')"
      ]
    },
    {
      "cell_type": "code",
      "execution_count": null,
      "id": "26496013",
      "metadata": {
        "colab": {
          "base_uri": "https://localhost:8080/"
        },
        "id": "26496013",
        "outputId": "2f6f9ba9-a14c-4033-8bb3-68c5c81cd65a"
      },
      "outputs": [
        {
          "output_type": "stream",
          "name": "stdout",
          "text": [
            "predicted sales is 24.412408996908397\n"
          ]
        }
      ],
      "source": [
        "# [230.1, 37.8, 69.2, 22.1]\n",
        "\n",
        "tv = 230.1\n",
        "radio = 37.8\n",
        "newspaper = 69.2\n",
        "\n",
        "sales = predict(tv, radio, newspaper, w1, w2, w3, b)\n",
        "print(f'predicted sales is {sales}')"
      ]
    },
    {
      "cell_type": "code",
      "execution_count": 8,
      "id": "184c920e",
      "metadata": {
        "id": "184c920e"
      },
      "outputs": [],
      "source": [
        "\n",
        "def implement_linear_regression_nsamples(X_data, y_data, epoch_max = 50,lr = 1e-5):\n",
        "  losses = []\n",
        "\n",
        "  w1, w2, w3, b = initialize_params()\n",
        "  N = len(y_data)\n",
        "\n",
        "  for epoch in range(epoch_max):\n",
        "\n",
        "      loss_total = 0.0\n",
        "      dw1_total = 0.0\n",
        "      dw2_total = 0.0\n",
        "      dw3_total = 0.0\n",
        "      db_total  = 0.0\n",
        "\n",
        "      for i in range(N):\n",
        "          # get a sample\n",
        "          x1 = X_data[0][i]\n",
        "          x2 = X_data[1][i]\n",
        "          x3 = X_data[2][i]\n",
        "\n",
        "          y  = y_data[i]\n",
        "\n",
        "          # print(y)\n",
        "          # compute output\n",
        "          y_hat = predict(x1, x2, x3, w1, w2, w3, b)\n",
        "\n",
        "          # compute loss\n",
        "          loss = compute_loss_mse(y, y_hat)\n",
        "          loss_total = loss_total + loss\n",
        "\n",
        "          # compute gradient w1, w2, w3, b\n",
        "          dl_dw1 = compute_gradient_wi(x1, y, y_hat)\n",
        "          dl_dw2 = compute_gradient_wi(x2, y, y_hat)\n",
        "          dl_dw3 = compute_gradient_wi(x3, y, y_hat)\n",
        "          dl_db  = compute_gradient_b(y, y_hat)\n",
        "\n",
        "         # accumulate\n",
        "          dw1_total = dw1_total + dl_dw1\n",
        "          dw2_total = dw2_total + dl_dw2\n",
        "          dw3_total = dw3_total + dl_dw3\n",
        "          db_total = db_total + dl_db\n",
        "\n",
        "      # (after processing N samples) - update parameters\n",
        "      w1 = update_weight_wi(w1, dl_dw1/N, lr)\n",
        "      w2 = update_weight_wi(w2, dl_dw2/N, lr)\n",
        "      w3 = update_weight_wi(w3, dl_dw3/N, lr)\n",
        "      b  = update_weight_b(b, dl_db/N, lr)\n",
        "\n",
        "\n",
        "      # logging\n",
        "      losses.append(loss_total/N)\n",
        "  return (w1,w2,w3,b, losses)"
      ]
    },
    {
      "cell_type": "code",
      "execution_count": 9,
      "id": "UbAqOKcJZ8b1",
      "metadata": {
        "colab": {
          "base_uri": "https://localhost:8080/",
          "height": 453
        },
        "id": "UbAqOKcJZ8b1",
        "outputId": "72937454-c74f-423f-d76a-dcbbd142377b"
      },
      "outputs": [
        {
          "output_type": "display_data",
          "data": {
            "text/plain": [
              "<Figure size 640x480 with 1 Axes>"
            ],
            "image/png": "[encoded data removed]"
          },
          "metadata": {}
        }
      ],
      "source": [
        "X,y = prepare_data('advertising.csv')\n",
        "(w1,w2,w3,b, losses) = implement_linear_regression_nsamples(X,y,1000)\n",
        "plt.plot(losses)\n",
        "plt.xlabel(\"#epoch\")\n",
        "plt.ylabel(\"MAE Loss\")\n",
        "plt.show()"
      ]
    },
    {
      "cell_type": "code",
      "execution_count": 10,
      "id": "o6_pCU-vQzcl",
      "metadata": {
        "colab": {
          "base_uri": "https://localhost:8080/"
        },
        "id": "o6_pCU-vQzcl",
        "outputId": "2a3d51ba-dfdf-4c83-c458-13173df6186a"
      },
      "outputs": [
        {
          "output_type": "stream",
          "name": "stdout",
          "text": [
            "0.07865211655017688 0.009363049405216773 3.387579445815582e-06\n"
          ]
        }
      ],
      "source": [
        "X,y = prepare_data('advertising.csv')\n",
        "(w1,w2,w3,b, losses) = implement_linear_regression_nsamples(X,y,1000)\n",
        "print(w1,w2,w3)"
      ]
    },
    {
      "cell_type": "markdown",
      "id": "9V-S8Avo3zMh",
      "metadata": {
        "id": "9V-S8Avo3zMh"
      },
      "source": [
        "### Data normalization"
      ]
    },
    {
      "cell_type": "code",
      "execution_count": null,
      "id": "UVKSm-hc3x7e",
      "metadata": {
        "id": "UVKSm-hc3x7e"
      },
      "outputs": [],
      "source": [
        "# MIN-MAX SCALING - X_norm = (X - X.min()) / (X.max() - X.min())\n",
        "# Min-Max Scaling is a simple method of normalization that scales the values between 0 and 1\n",
        "def min_max_scaling(X):\n",
        "\n",
        "    max_value_1 = max(X[0])\n",
        "    max_value_2 = max(X[1])\n",
        "    max_value_3 = max(X[2])\n",
        "\n",
        "    min_value_1 = min(X[0])\n",
        "    min_value_2 = min(X[1])\n",
        "    min_value_3 = min(X[2])\n",
        "\n",
        "    max_list = [max_value_1, max_value_2, max_value_3]\n",
        "    min_list = [min_value_1, min_value_2, min_value_3]\n",
        "\n",
        "\n",
        "    X[0] = [(x - min_value_1) / (max_value_1 - min_value_1) for x in X[0]]\n",
        "    X[1] = [(x - max_value_2) / (max_value_2 - min_value_2) for x in X[1]]\n",
        "    X[2] = [(x - max_value_3) / (max_value_3 - min_value_3) for x in X[2]]\n",
        "\n",
        "    return X"
      ]
    },
    {
      "cell_type": "code",
      "execution_count": null,
      "id": "vCMyGEzbCdiq",
      "metadata": {
        "id": "vCMyGEzbCdiq"
      },
      "outputs": [],
      "source": [
        "def z_mean_scaling(X):\n",
        "\n",
        "    mean_value_1 = sum(X[0]) / len(X[0])\n",
        "    mean_value_2 = sum(X[1]) / len(X[1])\n",
        "    mean_value_3 = sum(X[2]) / len(X[2])\n",
        "\n",
        "\n",
        "\n",
        "    std_value_1 = (sum((x-(sum(X[0]) / len(X[0])))**2 for x in X[0]) / (len(X[0])-1))**0.5\n",
        "    std_value_2 = (sum((x-(sum(X[1]) / len(X[1])))**2 for x in X[1]) / (len(X[1])-1))**0.5\n",
        "    std_value_3 = (sum((x-(sum(X[2]) / len(X[2])))**2 for x in X[2]) / (len(X[2])-1))**0.5\n",
        "\n",
        "\n",
        "\n",
        "    X[0] = [(x - mean_value_1) / (std_value_1) for x in X[0]]\n",
        "    X[1] = [(x - mean_value_2) / (std_value_2) for x in X[1]]\n",
        "    X[2] = [(x - mean_value_3) / (std_value_2) for x in X[2]]\n",
        "\n",
        "    return X"
      ]
    },
    {
      "cell_type": "code",
      "execution_count": null,
      "id": "AoK949xP7j_2",
      "metadata": {
        "colab": {
          "base_uri": "https://localhost:8080/"
        },
        "id": "AoK949xP7j_2",
        "outputId": "998eadc8-e99f-412c-ae71-b399f993ef53"
      },
      "outputs": [
        {
          "output_type": "stream",
          "name": "stdout",
          "text": [
            "[0.0, 0.5, 1.0]\n"
          ]
        }
      ],
      "source": [
        "data1 = [1, 2, 3]\n",
        "data2 = [4, 5, 6]\n",
        "data3 = [7, 8, 9]\n",
        "X = [data1, data2, data3]\n",
        "\n",
        "X, min_list, max_list = min_max_scaling(X)\n",
        "print(X)"
      ]
    },
    {
      "cell_type": "markdown",
      "id": "G8v0zRMd4MSB",
      "metadata": {
        "id": "G8v0zRMd4MSB"
      },
      "source": [
        "https://pieriantraining.com/tutorial-how-to-normalize-data-in-python/"
      ]
    },
    {
      "cell_type": "code",
      "execution_count": null,
      "id": "9BAiVYT_3bwk",
      "metadata": {
        "id": "9BAiVYT_3bwk"
      },
      "outputs": [],
      "source": [
        "# MIN-MAX SCALING - X_norm = (X - X.min()) / (X.max() - X.min())\n",
        "# Min-Max Scaling is a simple method of normalization that scales the values between 0 and 1\n",
        "def min_max_scaling(data1, data2, data3):\n",
        "    data = data1 + data2 + data3\n",
        "\n",
        "    max_value_1 = max(data1)\n",
        "    max_value_2 = max(data2)\n",
        "    max_value_3 = max(data3)\n",
        "\n",
        "    min_value_1 = min(data1)\n",
        "    min_value_2 = min(data2)\n",
        "    min_value_3 = min(data3)\n",
        "\n",
        "    data1 = [(x - min_value_1) / (max_value_1 - min_value_1) for x in data1]\n",
        "    data2 = [(x - min_value_2) / (max_value_2 - min_value_2) for x in data2]\n",
        "    data3 = [(x - min_value_3) / (max_value_3 - min_value_3) for x in data3]\n",
        "\n",
        "    return (data1, data2, data3, max_value_1, max_value_2, max_value_3, min_value_1, min_value_2, min_value_3)"
      ]
    },
    {
      "cell_type": "code",
      "execution_count": null,
      "id": "nYB0xVfTENTw",
      "metadata": {
        "id": "nYB0xVfTENTw"
      },
      "outputs": [],
      "source": [
        "def scaling(X):\n",
        "    data1 = X[0]\n",
        "    data2 = X[1]\n",
        "    data3 = X[2]\n",
        "    data = data1 + data2 + data3\n",
        "\n",
        "    print(data)\n",
        "    max_value = max(data)\n",
        "    min_value = min(data)\n",
        "    mean_value = sum(data) / len(data)\n",
        "\n",
        "    data1 = [(x - mean_value) / (max_value - min_value) for x in data1]\n",
        "    data2 = [(x - mean_value) / (max_value - min_value) for x in data2]\n",
        "    data3 = [(x - mean_value) / (max_value - min_value) for x in data3]\n",
        "\n",
        "    return [data1, data2, data3]"
      ]
    },
    {
      "cell_type": "code",
      "execution_count": null,
      "id": "WtLHGw4q___C",
      "metadata": {
        "colab": {
          "base_uri": "https://localhost:8080/",
          "height": 200
        },
        "id": "WtLHGw4q___C",
        "outputId": "90d36f5f-e4e6-4818-c3a8-18d94cea62de"
      },
      "outputs": [
        {
          "output_type": "error",
          "ename": "TypeError",
          "evalue": "scaling() takes 1 positional argument but 3 were given",
          "traceback": [
            "\u001b[0;31m---------------------------------------------------------------------------\u001b[0m",
            "\u001b[0;31mTypeError\u001b[0m                                 Traceback (most recent call last)",
            "\u001b[0;32m<ipython-input-25-bb14b88618b1>\u001b[0m in \u001b[0;36m<cell line: 1>\u001b[0;34m()\u001b[0m\n\u001b[0;32m----> 1\u001b[0;31m \u001b[0;34m(\u001b[0m\u001b[0mtv_data\u001b[0m\u001b[0;34m,\u001b[0m \u001b[0mradio_data\u001b[0m\u001b[0;34m,\u001b[0m \u001b[0mnewspaper_data\u001b[0m\u001b[0;34m)\u001b[0m\u001b[0;34m,\u001b[0m \u001b[0;34m(\u001b[0m\u001b[0mmean_v\u001b[0m\u001b[0;34m,\u001b[0m \u001b[0mmax_v\u001b[0m\u001b[0;34m,\u001b[0m \u001b[0mmin_v\u001b[0m\u001b[0;34m)\u001b[0m \u001b[0;34m=\u001b[0m \u001b[0mscaling\u001b[0m\u001b[0;34m(\u001b[0m\u001b[0mdata1\u001b[0m\u001b[0;34m,\u001b[0m \u001b[0mdata2\u001b[0m\u001b[0;34m,\u001b[0m \u001b[0mdata3\u001b[0m\u001b[0;34m)\u001b[0m\u001b[0;34m\u001b[0m\u001b[0;34m\u001b[0m\u001b[0m\n\u001b[0m\u001b[1;32m      2\u001b[0m \u001b[0mprint\u001b[0m\u001b[0;34m(\u001b[0m\u001b[0mdata1_n\u001b[0m\u001b[0;34m,\u001b[0m \u001b[0mdata2_n\u001b[0m\u001b[0;34m,\u001b[0m \u001b[0mdata3_n\u001b[0m\u001b[0;34m)\u001b[0m\u001b[0;34m\u001b[0m\u001b[0;34m\u001b[0m\u001b[0m\n",
            "\u001b[0;31mTypeError\u001b[0m: scaling() takes 1 positional argument but 3 were given"
          ]
        }
      ],
      "source": [
        "(tv_data, radio_data, newspaper_data), (mean_v, max_v, min_v) = scaling(data1, data2, data3)\n",
        "print(data1_n, data2_n, data3_n)"
      ]
    }
  ],
  "metadata": {
    "colab": {
      "provenance": []
    },
    "kernelspec": {
      "display_name": "Python 3 (ipykernel)",
      "language": "python",
      "name": "python3"
    },
    "language_info": {
      "codemirror_mode": {
        "name": "ipython",
        "version": 3
      },
      "file_extension": ".py",
      "mimetype": "text/x-python",
      "name": "python",
      "nbconvert_exporter": "python",
      "pygments_lexer": "ipython3",
      "version": "3.8.2"
    }
  },
  "nbformat": 4,
  "nbformat_minor": 5
}